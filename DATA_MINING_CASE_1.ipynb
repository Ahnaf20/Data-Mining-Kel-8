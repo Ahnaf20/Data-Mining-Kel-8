{
  "nbformat": 4,
  "nbformat_minor": 0,
  "metadata": {
    "colab": {
      "provenance": [],
      "collapsed_sections": [],
      "include_colab_link": true
    },
    "kernelspec": {
      "name": "python3",
      "display_name": "Python 3"
    },
    "language_info": {
      "name": "python"
    }
  },
  "cells": [
    {
      "cell_type": "markdown",
      "metadata": {
        "id": "view-in-github",
        "colab_type": "text"
      },
      "source": [
        "<a href=\"https://colab.research.google.com/github/Ahnaf20/Data-Mining-Kel-8/blob/main/DATA_MINING_CASE_1.ipynb\" target=\"_parent\"><img src=\"https://colab.research.google.com/assets/colab-badge.svg\" alt=\"Open In Colab\"/></a>"
      ]
    },
    {
      "cell_type": "code",
      "source": [],
      "metadata": {
        "id": "upNwq5Pw-RP3"
      },
      "execution_count": null,
      "outputs": []
    },
    {
      "cell_type": "code",
      "source": [
        "# Importing CSV data  https://pandas.pydata.org/pandas-docs/stable/reference/api/pandas.read_csv.html\n",
        "try:\n",
        "    # Running Locally \n",
        "    dataG = pd.read_excel('data/data gabungan.xlxs')\n",
        "except:\n",
        "    # Running in Google Colab\n",
        "    !mkdir data\n",
        "    !wget -P data/ https://github.com/Ahnaf20/Data-Mining-Kel-8/blob/fc607887a8662494ad9eeec4ea6e765ea5926ecd/data%20gabungan.xlsx\n",
        "    dataG = pd.read_excel(data/data gabungan.xlxs)"
      ],
      "metadata": {
        "colab": {
          "base_uri": "https://localhost:8080/",
          "height": 245
        },
        "id": "w-nLczdv9F3V",
        "outputId": "f2526d4c-fe44-47b3-a4a5-f7f360f81ded"
      },
      "execution_count": 149,
      "outputs": [
        {
          "output_type": "error",
          "ename": "SyntaxError",
          "evalue": "ignored",
          "traceback": [
            "\u001b[0;36m  File \u001b[0;32m\"<ipython-input-148-781e0e6d385e>\"\u001b[0;36m, line \u001b[0;32m9\u001b[0m\n\u001b[0;31m    dataG = pd.read_excel(data/data gabungan.xlxs)\u001b[0m\n\u001b[0m                                           ^\u001b[0m\n\u001b[0;31mSyntaxError\u001b[0m\u001b[0;31m:\u001b[0m invalid syntax\n"
          ]
        },
        {
          "output_type": "error",
          "ename": "SyntaxError",
          "evalue": "ignored",
          "traceback": [
            "\u001b[0;36m  File \u001b[0;32m\"<ipython-input-149-781e0e6d385e>\"\u001b[0;36m, line \u001b[0;32m9\u001b[0m\n\u001b[0;31m    dataG = pd.read_excel(data/data gabungan.xlxs)\u001b[0m\n\u001b[0m                                           ^\u001b[0m\n\u001b[0;31mSyntaxError\u001b[0m\u001b[0;31m:\u001b[0m invalid syntax\n"
          ]
        }
      ]
    },
    {
      "cell_type": "code",
      "source": [
        "# Loading Data:\n",
        "import pandas as pd\n",
        "\n",
        "try: # Running Locally, yakinkan \"file_\" berada di folder \"data\"\n",
        "    dfJ = pd.read_csv(\"data/jakarta.csv\", low_memory = False, encoding='utf8')\n",
        "    dfD = pd.read_csv(\"data/depok.csv\", low_memory = False, encoding='utf8')\n",
        "    dfT = pd.read_csv(\"data/tangerang.csv\", low_memory = False, encoding='utf8')\n",
        "except: # Running in Google Colab\n",
        "    !mkdir data\n",
        "    !wget -P data/ https://raw.githubusercontent.com/taufiksutanto/ADM-Case-01-EDA/master/data/jakarta.csv\n",
        "    !wget -P data/ https://raw.githubusercontent.com/taufiksutanto/ADM-Case-01-EDA/master/data/depok.csv\n",
        "    !wget -P data/ https://raw.githubusercontent.com/taufiksutanto/ADM-Case-01-EDA/master/data/tangerang.csv\n",
        "    dfJ = pd.read_csv(\"data/jakarta.csv\", low_memory = False, encoding='utf8')\n",
        "    dfD = pd.read_csv(\"data/depok.csv\", low_memory = False, encoding='utf8')\n",
        "    dfT = pd.read_csv(\"data/tangerang.csv\", low_memory = False, encoding='utf8')\n",
        "    \n",
        "dfJ.shape, dfD.shape, dfT.shape"
      ],
      "metadata": {
        "id": "EQ6b6PxK9GtV"
      },
      "execution_count": null,
      "outputs": []
    },
    {
      "cell_type": "code",
      "execution_count": null,
      "metadata": {
        "id": "uejXzEdCsbvS"
      },
      "outputs": [],
      "source": [
        "import numpy as np\n",
        "import pandas as pd\n",
        "import math\n",
        "import seaborn as sns\n",
        "import matplotlib.pyplot as plt\n",
        "import warnings; warnings.simplefilter('ignore')\n",
        "import numpy as np\n",
        "import matplotlib.cm as cm\n",
        "from collections import Counter\n",
        "plt.style.use('bmh'); sns.set()"
      ]
    },
    {
      "cell_type": "markdown",
      "source": [
        "## Import data gabungan \n"
      ],
      "metadata": {
        "id": "AFpxrsCBtmLx"
      }
    },
    {
      "cell_type": "code",
      "source": [
        "file_lengkap = '/content/data gabungan.xlsx'"
      ],
      "metadata": {
        "id": "g0TxYVelsgkx"
      },
      "execution_count": null,
      "outputs": []
    },
    {
      "cell_type": "code",
      "source": [
        "dataG = pd.read_excel(file_lengkap, parse_dates=True, index_col = \"created_at\")\n",
        "dataG"
      ],
      "metadata": {
        "colab": {
          "base_uri": "https://localhost:8080/",
          "height": 673
        },
        "id": "oH9Ez_zRs2U4",
        "outputId": "a6717deb-4a06-4aea-ef17-fe5eddd23bea"
      },
      "execution_count": null,
      "outputs": [
        {
          "output_type": "execute_result",
          "data": {
            "text/plain": [
              "             LT   LB  KT  KM  garasi  carport                     lokasi  \\\n",
              "created_at                                                                 \n",
              "2021-06-12  202  198   8   3     NaN      NaN              Jakarta Pusat   \n",
              "2021-02-12   30   55   2   1     NaN      1.0              Jakarta Pusat   \n",
              "2021-06-12   19   35   2   1     NaN      NaN              Jakarta Pusat   \n",
              "2021-06-12   33   42   2   2     NaN      1.0              Jakarta Pusat   \n",
              "2021-06-12   30   55   2   2     NaN      1.0              Jakarta Pusat   \n",
              "...         ...  ...  ..  ..     ...      ...                        ...   \n",
              "2021-12-08   60   55   2   2     NaN      1.0  LIPPO KARAWACI, TANGERANG   \n",
              "2021-12-08   66   70   3   2     NaN      1.0          Ciater, Tangerang   \n",
              "2021-12-08  202   85   4   3     1.0      1.0  BSD Griya Loka, Tangerang   \n",
              "2021-12-08  108  130   3   3     1.0      1.0      Pagedangan, Tangerang   \n",
              "2021-12-08   91   91   3   2     NaN      NaN           Poris, Tangerang   \n",
              "\n",
              "                                 sertifikat  listrik  hadap       harga  \\\n",
              "created_at                                                                \n",
              "2021-06-12                              SHM   2200.0    NaN  4500000000   \n",
              "2021-02-12                              SHM   2200.0    NaN  1100000000   \n",
              "2021-06-12                              SHM   2200.0    NaN   395000000   \n",
              "2021-06-12                              SHM   2200.0    NaN   835000000   \n",
              "2021-06-12                              SHM   2200.0    NaN  1100000000   \n",
              "...                                     ...      ...    ...         ...   \n",
              "2021-12-08  lainnya(PPJB, GIRIK, ADAT, dll)   2200.0    NaN         711   \n",
              "2021-12-08                              SHM   1300.0    NaN         850   \n",
              "2021-12-08                              SHM   2200.0  Barat        1860   \n",
              "2021-12-08                              SHM   2200.0    NaN        1800   \n",
              "2021-12-08                              SHM   3500.0    NaN        1000   \n",
              "\n",
              "                                                          URL  \\\n",
              "created_at                                                      \n",
              "2021-06-12  https://www.rumah.com/listing-properti/dijual-...   \n",
              "2021-02-12  https://www.rumah.com/listing-properti/dijual-...   \n",
              "2021-06-12  https://www.rumah.com/listing-properti/dijual-...   \n",
              "2021-06-12  https://www.rumah.com/listing-properti/dijual-...   \n",
              "2021-06-12  https://www.rumah.com/listing-properti/dijual-...   \n",
              "...                                                       ...   \n",
              "2021-12-08  https://www.rumah123.com/properti/tangerang/ho...   \n",
              "2021-12-08  https://www.rumah123.com/properti/tangerang/ho...   \n",
              "2021-12-08  https://www.rumah123.com/properti/tangerang/ho...   \n",
              "2021-12-08  https://www.rumah123.com/properti/tangerang/ho...   \n",
              "2021-12-08  https://www.rumah123.com/properti/tangerang/ho...   \n",
              "\n",
              "                                                    deskripsi       kota  \n",
              "created_at                                                                \n",
              "2021-06-12  Dekat Cikini Salemba Taman Isamail Marzuki Kam...    Jakarta  \n",
              "2021-02-12  Mengusung konsep minimalis, dan didukung denga...    Jakarta  \n",
              "2021-06-12  Dekat dengan Mall Atrium Senen, dekat dengan a...    Jakarta  \n",
              "2021-06-12  Berlokasi sangat strategis, sangat dekat ke Tu...    Jakarta  \n",
              "2021-06-12  Bisa request ubah tata ruang, beli 2 unit mend...    Jakarta  \n",
              "...                                                       ...        ...  \n",
              "2021-12-08  Lokasi sangat dekat dengan berbagai Akses,Ters...  Tangerang  \n",
              "2021-12-08  Berlian Ciater, Hunian 2 Lantai Nyaman dan Asr...  Tangerang  \n",
              "2021-12-08  1-7 km ke Stasiun Rawa Buntu, Rs Eka Hospital,...  Tangerang  \n",
              "2021-12-08  Fasilitas Terdekat :Lokasi strategis, berada d...  Tangerang  \n",
              "2021-12-08  Akses Mudah: 10 Menit Ke stasiun kereta poris ...  Tangerang  \n",
              "\n",
              "[363 rows x 14 columns]"
            ],
            "text/html": [
              "\n",
              "  <div id=\"df-fc4ef530-f41b-4239-b047-3ac856221903\">\n",
              "    <div class=\"colab-df-container\">\n",
              "      <div>\n",
              "<style scoped>\n",
              "    .dataframe tbody tr th:only-of-type {\n",
              "        vertical-align: middle;\n",
              "    }\n",
              "\n",
              "    .dataframe tbody tr th {\n",
              "        vertical-align: top;\n",
              "    }\n",
              "\n",
              "    .dataframe thead th {\n",
              "        text-align: right;\n",
              "    }\n",
              "</style>\n",
              "<table border=\"1\" class=\"dataframe\">\n",
              "  <thead>\n",
              "    <tr style=\"text-align: right;\">\n",
              "      <th></th>\n",
              "      <th>LT</th>\n",
              "      <th>LB</th>\n",
              "      <th>KT</th>\n",
              "      <th>KM</th>\n",
              "      <th>garasi</th>\n",
              "      <th>carport</th>\n",
              "      <th>lokasi</th>\n",
              "      <th>sertifikat</th>\n",
              "      <th>listrik</th>\n",
              "      <th>hadap</th>\n",
              "      <th>harga</th>\n",
              "      <th>URL</th>\n",
              "      <th>deskripsi</th>\n",
              "      <th>kota</th>\n",
              "    </tr>\n",
              "    <tr>\n",
              "      <th>created_at</th>\n",
              "      <th></th>\n",
              "      <th></th>\n",
              "      <th></th>\n",
              "      <th></th>\n",
              "      <th></th>\n",
              "      <th></th>\n",
              "      <th></th>\n",
              "      <th></th>\n",
              "      <th></th>\n",
              "      <th></th>\n",
              "      <th></th>\n",
              "      <th></th>\n",
              "      <th></th>\n",
              "      <th></th>\n",
              "    </tr>\n",
              "  </thead>\n",
              "  <tbody>\n",
              "    <tr>\n",
              "      <th>2021-06-12</th>\n",
              "      <td>202</td>\n",
              "      <td>198</td>\n",
              "      <td>8</td>\n",
              "      <td>3</td>\n",
              "      <td>NaN</td>\n",
              "      <td>NaN</td>\n",
              "      <td>Jakarta Pusat</td>\n",
              "      <td>SHM</td>\n",
              "      <td>2200.0</td>\n",
              "      <td>NaN</td>\n",
              "      <td>4500000000</td>\n",
              "      <td>https://www.rumah.com/listing-properti/dijual-...</td>\n",
              "      <td>Dekat Cikini Salemba Taman Isamail Marzuki Kam...</td>\n",
              "      <td>Jakarta</td>\n",
              "    </tr>\n",
              "    <tr>\n",
              "      <th>2021-02-12</th>\n",
              "      <td>30</td>\n",
              "      <td>55</td>\n",
              "      <td>2</td>\n",
              "      <td>1</td>\n",
              "      <td>NaN</td>\n",
              "      <td>1.0</td>\n",
              "      <td>Jakarta Pusat</td>\n",
              "      <td>SHM</td>\n",
              "      <td>2200.0</td>\n",
              "      <td>NaN</td>\n",
              "      <td>1100000000</td>\n",
              "      <td>https://www.rumah.com/listing-properti/dijual-...</td>\n",
              "      <td>Mengusung konsep minimalis, dan didukung denga...</td>\n",
              "      <td>Jakarta</td>\n",
              "    </tr>\n",
              "    <tr>\n",
              "      <th>2021-06-12</th>\n",
              "      <td>19</td>\n",
              "      <td>35</td>\n",
              "      <td>2</td>\n",
              "      <td>1</td>\n",
              "      <td>NaN</td>\n",
              "      <td>NaN</td>\n",
              "      <td>Jakarta Pusat</td>\n",
              "      <td>SHM</td>\n",
              "      <td>2200.0</td>\n",
              "      <td>NaN</td>\n",
              "      <td>395000000</td>\n",
              "      <td>https://www.rumah.com/listing-properti/dijual-...</td>\n",
              "      <td>Dekat dengan Mall Atrium Senen, dekat dengan a...</td>\n",
              "      <td>Jakarta</td>\n",
              "    </tr>\n",
              "    <tr>\n",
              "      <th>2021-06-12</th>\n",
              "      <td>33</td>\n",
              "      <td>42</td>\n",
              "      <td>2</td>\n",
              "      <td>2</td>\n",
              "      <td>NaN</td>\n",
              "      <td>1.0</td>\n",
              "      <td>Jakarta Pusat</td>\n",
              "      <td>SHM</td>\n",
              "      <td>2200.0</td>\n",
              "      <td>NaN</td>\n",
              "      <td>835000000</td>\n",
              "      <td>https://www.rumah.com/listing-properti/dijual-...</td>\n",
              "      <td>Berlokasi sangat strategis, sangat dekat ke Tu...</td>\n",
              "      <td>Jakarta</td>\n",
              "    </tr>\n",
              "    <tr>\n",
              "      <th>2021-06-12</th>\n",
              "      <td>30</td>\n",
              "      <td>55</td>\n",
              "      <td>2</td>\n",
              "      <td>2</td>\n",
              "      <td>NaN</td>\n",
              "      <td>1.0</td>\n",
              "      <td>Jakarta Pusat</td>\n",
              "      <td>SHM</td>\n",
              "      <td>2200.0</td>\n",
              "      <td>NaN</td>\n",
              "      <td>1100000000</td>\n",
              "      <td>https://www.rumah.com/listing-properti/dijual-...</td>\n",
              "      <td>Bisa request ubah tata ruang, beli 2 unit mend...</td>\n",
              "      <td>Jakarta</td>\n",
              "    </tr>\n",
              "    <tr>\n",
              "      <th>...</th>\n",
              "      <td>...</td>\n",
              "      <td>...</td>\n",
              "      <td>...</td>\n",
              "      <td>...</td>\n",
              "      <td>...</td>\n",
              "      <td>...</td>\n",
              "      <td>...</td>\n",
              "      <td>...</td>\n",
              "      <td>...</td>\n",
              "      <td>...</td>\n",
              "      <td>...</td>\n",
              "      <td>...</td>\n",
              "      <td>...</td>\n",
              "      <td>...</td>\n",
              "    </tr>\n",
              "    <tr>\n",
              "      <th>2021-12-08</th>\n",
              "      <td>60</td>\n",
              "      <td>55</td>\n",
              "      <td>2</td>\n",
              "      <td>2</td>\n",
              "      <td>NaN</td>\n",
              "      <td>1.0</td>\n",
              "      <td>LIPPO KARAWACI, TANGERANG</td>\n",
              "      <td>lainnya(PPJB, GIRIK, ADAT, dll)</td>\n",
              "      <td>2200.0</td>\n",
              "      <td>NaN</td>\n",
              "      <td>711</td>\n",
              "      <td>https://www.rumah123.com/properti/tangerang/ho...</td>\n",
              "      <td>Lokasi sangat dekat dengan berbagai Akses,Ters...</td>\n",
              "      <td>Tangerang</td>\n",
              "    </tr>\n",
              "    <tr>\n",
              "      <th>2021-12-08</th>\n",
              "      <td>66</td>\n",
              "      <td>70</td>\n",
              "      <td>3</td>\n",
              "      <td>2</td>\n",
              "      <td>NaN</td>\n",
              "      <td>1.0</td>\n",
              "      <td>Ciater, Tangerang</td>\n",
              "      <td>SHM</td>\n",
              "      <td>1300.0</td>\n",
              "      <td>NaN</td>\n",
              "      <td>850</td>\n",
              "      <td>https://www.rumah123.com/properti/tangerang/ho...</td>\n",
              "      <td>Berlian Ciater, Hunian 2 Lantai Nyaman dan Asr...</td>\n",
              "      <td>Tangerang</td>\n",
              "    </tr>\n",
              "    <tr>\n",
              "      <th>2021-12-08</th>\n",
              "      <td>202</td>\n",
              "      <td>85</td>\n",
              "      <td>4</td>\n",
              "      <td>3</td>\n",
              "      <td>1.0</td>\n",
              "      <td>1.0</td>\n",
              "      <td>BSD Griya Loka, Tangerang</td>\n",
              "      <td>SHM</td>\n",
              "      <td>2200.0</td>\n",
              "      <td>Barat</td>\n",
              "      <td>1860</td>\n",
              "      <td>https://www.rumah123.com/properti/tangerang/ho...</td>\n",
              "      <td>1-7 km ke Stasiun Rawa Buntu, Rs Eka Hospital,...</td>\n",
              "      <td>Tangerang</td>\n",
              "    </tr>\n",
              "    <tr>\n",
              "      <th>2021-12-08</th>\n",
              "      <td>108</td>\n",
              "      <td>130</td>\n",
              "      <td>3</td>\n",
              "      <td>3</td>\n",
              "      <td>1.0</td>\n",
              "      <td>1.0</td>\n",
              "      <td>Pagedangan, Tangerang</td>\n",
              "      <td>SHM</td>\n",
              "      <td>2200.0</td>\n",
              "      <td>NaN</td>\n",
              "      <td>1800</td>\n",
              "      <td>https://www.rumah123.com/properti/tangerang/ho...</td>\n",
              "      <td>Fasilitas Terdekat :Lokasi strategis, berada d...</td>\n",
              "      <td>Tangerang</td>\n",
              "    </tr>\n",
              "    <tr>\n",
              "      <th>2021-12-08</th>\n",
              "      <td>91</td>\n",
              "      <td>91</td>\n",
              "      <td>3</td>\n",
              "      <td>2</td>\n",
              "      <td>NaN</td>\n",
              "      <td>NaN</td>\n",
              "      <td>Poris, Tangerang</td>\n",
              "      <td>SHM</td>\n",
              "      <td>3500.0</td>\n",
              "      <td>NaN</td>\n",
              "      <td>1000</td>\n",
              "      <td>https://www.rumah123.com/properti/tangerang/ho...</td>\n",
              "      <td>Akses Mudah: 10 Menit Ke stasiun kereta poris ...</td>\n",
              "      <td>Tangerang</td>\n",
              "    </tr>\n",
              "  </tbody>\n",
              "</table>\n",
              "<p>363 rows × 14 columns</p>\n",
              "</div>\n",
              "      <button class=\"colab-df-convert\" onclick=\"convertToInteractive('df-fc4ef530-f41b-4239-b047-3ac856221903')\"\n",
              "              title=\"Convert this dataframe to an interactive table.\"\n",
              "              style=\"display:none;\">\n",
              "        \n",
              "  <svg xmlns=\"http://www.w3.org/2000/svg\" height=\"24px\"viewBox=\"0 0 24 24\"\n",
              "       width=\"24px\">\n",
              "    <path d=\"M0 0h24v24H0V0z\" fill=\"none\"/>\n",
              "    <path d=\"M18.56 5.44l.94 2.06.94-2.06 2.06-.94-2.06-.94-.94-2.06-.94 2.06-2.06.94zm-11 1L8.5 8.5l.94-2.06 2.06-.94-2.06-.94L8.5 2.5l-.94 2.06-2.06.94zm10 10l.94 2.06.94-2.06 2.06-.94-2.06-.94-.94-2.06-.94 2.06-2.06.94z\"/><path d=\"M17.41 7.96l-1.37-1.37c-.4-.4-.92-.59-1.43-.59-.52 0-1.04.2-1.43.59L10.3 9.45l-7.72 7.72c-.78.78-.78 2.05 0 2.83L4 21.41c.39.39.9.59 1.41.59.51 0 1.02-.2 1.41-.59l7.78-7.78 2.81-2.81c.8-.78.8-2.07 0-2.86zM5.41 20L4 18.59l7.72-7.72 1.47 1.35L5.41 20z\"/>\n",
              "  </svg>\n",
              "      </button>\n",
              "      \n",
              "  <style>\n",
              "    .colab-df-container {\n",
              "      display:flex;\n",
              "      flex-wrap:wrap;\n",
              "      gap: 12px;\n",
              "    }\n",
              "\n",
              "    .colab-df-convert {\n",
              "      background-color: #E8F0FE;\n",
              "      border: none;\n",
              "      border-radius: 50%;\n",
              "      cursor: pointer;\n",
              "      display: none;\n",
              "      fill: #1967D2;\n",
              "      height: 32px;\n",
              "      padding: 0 0 0 0;\n",
              "      width: 32px;\n",
              "    }\n",
              "\n",
              "    .colab-df-convert:hover {\n",
              "      background-color: #E2EBFA;\n",
              "      box-shadow: 0px 1px 2px rgba(60, 64, 67, 0.3), 0px 1px 3px 1px rgba(60, 64, 67, 0.15);\n",
              "      fill: #174EA6;\n",
              "    }\n",
              "\n",
              "    [theme=dark] .colab-df-convert {\n",
              "      background-color: #3B4455;\n",
              "      fill: #D2E3FC;\n",
              "    }\n",
              "\n",
              "    [theme=dark] .colab-df-convert:hover {\n",
              "      background-color: #434B5C;\n",
              "      box-shadow: 0px 1px 3px 1px rgba(0, 0, 0, 0.15);\n",
              "      filter: drop-shadow(0px 1px 2px rgba(0, 0, 0, 0.3));\n",
              "      fill: #FFFFFF;\n",
              "    }\n",
              "  </style>\n",
              "\n",
              "      <script>\n",
              "        const buttonEl =\n",
              "          document.querySelector('#df-fc4ef530-f41b-4239-b047-3ac856221903 button.colab-df-convert');\n",
              "        buttonEl.style.display =\n",
              "          google.colab.kernel.accessAllowed ? 'block' : 'none';\n",
              "\n",
              "        async function convertToInteractive(key) {\n",
              "          const element = document.querySelector('#df-fc4ef530-f41b-4239-b047-3ac856221903');\n",
              "          const dataTable =\n",
              "            await google.colab.kernel.invokeFunction('convertToInteractive',\n",
              "                                                     [key], {});\n",
              "          if (!dataTable) return;\n",
              "\n",
              "          const docLinkHtml = 'Like what you see? Visit the ' +\n",
              "            '<a target=\"_blank\" href=https://colab.research.google.com/notebooks/data_table.ipynb>data table notebook</a>'\n",
              "            + ' to learn more about interactive tables.';\n",
              "          element.innerHTML = '';\n",
              "          dataTable['output_type'] = 'display_data';\n",
              "          await google.colab.output.renderOutput(dataTable, element);\n",
              "          const docLink = document.createElement('div');\n",
              "          docLink.innerHTML = docLinkHtml;\n",
              "          element.appendChild(docLink);\n",
              "        }\n",
              "      </script>\n",
              "    </div>\n",
              "  </div>\n",
              "  "
            ]
          },
          "metadata": {},
          "execution_count": 124
        }
      ]
    },
    {
      "cell_type": "code",
      "source": [
        "dataG.shape"
      ],
      "metadata": {
        "colab": {
          "base_uri": "https://localhost:8080/"
        },
        "id": "U76KhcIptGHP",
        "outputId": "3c9a14b1-d9d9-4df4-f610-1842ed5e0ff6"
      },
      "execution_count": null,
      "outputs": [
        {
          "output_type": "execute_result",
          "data": {
            "text/plain": [
              "(363, 14)"
            ]
          },
          "metadata": {},
          "execution_count": 125
        }
      ]
    },
    {
      "cell_type": "code",
      "source": [
        "dataG.info()"
      ],
      "metadata": {
        "colab": {
          "base_uri": "https://localhost:8080/"
        },
        "id": "lNAn9n6Ttgqd",
        "outputId": "f1ef9bff-c90e-417b-af20-7e4f65c9d410"
      },
      "execution_count": null,
      "outputs": [
        {
          "output_type": "stream",
          "name": "stdout",
          "text": [
            "<class 'pandas.core.frame.DataFrame'>\n",
            "DatetimeIndex: 363 entries, 2021-06-12 to 2021-12-08\n",
            "Data columns (total 14 columns):\n",
            " #   Column      Non-Null Count  Dtype  \n",
            "---  ------      --------------  -----  \n",
            " 0   LT          363 non-null    int64  \n",
            " 1   LB          363 non-null    int64  \n",
            " 2   KT          363 non-null    int64  \n",
            " 3   KM          363 non-null    int64  \n",
            " 4   garasi      107 non-null    float64\n",
            " 5   carport     276 non-null    float64\n",
            " 6   lokasi      363 non-null    object \n",
            " 7   sertifikat  359 non-null    object \n",
            " 8   listrik     334 non-null    float64\n",
            " 9   hadap       147 non-null    object \n",
            " 10  harga       363 non-null    int64  \n",
            " 11  URL         363 non-null    object \n",
            " 12  deskripsi   350 non-null    object \n",
            " 13  kota        363 non-null    object \n",
            "dtypes: float64(3), int64(5), object(6)\n",
            "memory usage: 42.5+ KB\n"
          ]
        }
      ]
    },
    {
      "cell_type": "code",
      "source": [
        "dataG['lokasi'] = dataG['lokasi'].astype('category')\n",
        "dataG['sertifikat'] = dataG['sertifikat'].astype('category')\n",
        "dataG['hadap'] = dataG['hadap'].astype('category')\n",
        "dataG['URL'] = dataG['URL'].astype('category')\n",
        "dataG['deskripsi'] = dataG['deskripsi'].astype('category')\n",
        "dataG['kota'] = dataG['kota'].astype('category')\n",
        "\n",
        "dataG.dtypes"
      ],
      "metadata": {
        "colab": {
          "base_uri": "https://localhost:8080/"
        },
        "id": "M1o5pUCitr-_",
        "outputId": "22009e16-395e-41dd-c2d7-2775af67df0f"
      },
      "execution_count": null,
      "outputs": [
        {
          "output_type": "execute_result",
          "data": {
            "text/plain": [
              "LT               int64\n",
              "LB               int64\n",
              "KT               int64\n",
              "KM               int64\n",
              "garasi         float64\n",
              "carport        float64\n",
              "lokasi        category\n",
              "sertifikat    category\n",
              "listrik        float64\n",
              "hadap         category\n",
              "harga            int64\n",
              "URL           category\n",
              "deskripsi     category\n",
              "kota          category\n",
              "dtype: object"
            ]
          },
          "metadata": {},
          "execution_count": 127
        }
      ]
    },
    {
      "cell_type": "code",
      "source": [
        "dataG.describe(include='all').transpose()"
      ],
      "metadata": {
        "colab": {
          "base_uri": "https://localhost:8080/",
          "height": 488
        },
        "id": "dMv7fPX-uwiS",
        "outputId": "7b92957e-0142-4d10-e9fb-a896a2aad5cd"
      },
      "execution_count": null,
      "outputs": [
        {
          "output_type": "execute_result",
          "data": {
            "text/plain": [
              "            count unique                                                top  \\\n",
              "LT          363.0    NaN                                                NaN   \n",
              "LB          363.0    NaN                                                NaN   \n",
              "KT          363.0    NaN                                                NaN   \n",
              "KM          363.0    NaN                                                NaN   \n",
              "garasi      107.0    NaN                                                NaN   \n",
              "carport     276.0    NaN                                                NaN   \n",
              "lokasi        363     57                                           Sawangan   \n",
              "sertifikat    359     10                                                SHM   \n",
              "listrik     334.0    NaN                                                NaN   \n",
              "hadap         147     12                                              Utara   \n",
              "harga       363.0    NaN                                                NaN   \n",
              "URL           363    362  https://www.rumah.com/listing-properti/dijual-...   \n",
              "deskripsi     350    321  Dekat dengan berbagai fasilitas seperti :\\nSek...   \n",
              "kota          363      3                                          Tangerang   \n",
              "\n",
              "           freq               mean                 std    min     25%     50%  \\\n",
              "LT          NaN         190.721763          291.355533   16.0    70.0   100.0   \n",
              "LB          NaN         191.418733          243.406546   15.0    60.0   109.0   \n",
              "KT          NaN             3.4573            1.530616    1.0     2.0     3.0   \n",
              "KM          NaN           2.677686             1.48034    1.0     2.0     2.0   \n",
              "garasi      NaN           1.962617            1.619022    1.0     1.0     1.0   \n",
              "carport     NaN           1.742754            1.265968    1.0     1.0     1.0   \n",
              "lokasi       30                NaN                 NaN    NaN     NaN     NaN   \n",
              "sertifikat  302                NaN                 NaN    NaN     NaN     NaN   \n",
              "listrik     NaN        3928.143713         6288.522232  900.0  2200.0  2200.0   \n",
              "hadap        47                NaN                 NaN    NaN     NaN     NaN   \n",
              "harga       NaN  2995320028.490358  10077005538.307381   41.0   870.0  2300.0   \n",
              "URL           2                NaN                 NaN    NaN     NaN     NaN   \n",
              "deskripsi     8                NaN                 NaN    NaN     NaN     NaN   \n",
              "kota        124                NaN                 NaN    NaN     NaN     NaN   \n",
              "\n",
              "                     75%             max  \n",
              "LT                 203.5          3422.0  \n",
              "LB                 242.5          2500.0  \n",
              "KT                   4.0            10.0  \n",
              "KM                   4.0            10.0  \n",
              "garasi               2.0            10.0  \n",
              "carport              2.0            10.0  \n",
              "lokasi               NaN             NaN  \n",
              "sertifikat           NaN             NaN  \n",
              "listrik           3500.0         66000.0  \n",
              "hadap                NaN             NaN  \n",
              "harga       1550000000.0  105000000000.0  \n",
              "URL                  NaN             NaN  \n",
              "deskripsi            NaN             NaN  \n",
              "kota                 NaN             NaN  "
            ],
            "text/html": [
              "\n",
              "  <div id=\"df-25a9511c-9e2b-4fb0-b0c2-348a526dac1b\">\n",
              "    <div class=\"colab-df-container\">\n",
              "      <div>\n",
              "<style scoped>\n",
              "    .dataframe tbody tr th:only-of-type {\n",
              "        vertical-align: middle;\n",
              "    }\n",
              "\n",
              "    .dataframe tbody tr th {\n",
              "        vertical-align: top;\n",
              "    }\n",
              "\n",
              "    .dataframe thead th {\n",
              "        text-align: right;\n",
              "    }\n",
              "</style>\n",
              "<table border=\"1\" class=\"dataframe\">\n",
              "  <thead>\n",
              "    <tr style=\"text-align: right;\">\n",
              "      <th></th>\n",
              "      <th>count</th>\n",
              "      <th>unique</th>\n",
              "      <th>top</th>\n",
              "      <th>freq</th>\n",
              "      <th>mean</th>\n",
              "      <th>std</th>\n",
              "      <th>min</th>\n",
              "      <th>25%</th>\n",
              "      <th>50%</th>\n",
              "      <th>75%</th>\n",
              "      <th>max</th>\n",
              "    </tr>\n",
              "  </thead>\n",
              "  <tbody>\n",
              "    <tr>\n",
              "      <th>LT</th>\n",
              "      <td>363.0</td>\n",
              "      <td>NaN</td>\n",
              "      <td>NaN</td>\n",
              "      <td>NaN</td>\n",
              "      <td>190.721763</td>\n",
              "      <td>291.355533</td>\n",
              "      <td>16.0</td>\n",
              "      <td>70.0</td>\n",
              "      <td>100.0</td>\n",
              "      <td>203.5</td>\n",
              "      <td>3422.0</td>\n",
              "    </tr>\n",
              "    <tr>\n",
              "      <th>LB</th>\n",
              "      <td>363.0</td>\n",
              "      <td>NaN</td>\n",
              "      <td>NaN</td>\n",
              "      <td>NaN</td>\n",
              "      <td>191.418733</td>\n",
              "      <td>243.406546</td>\n",
              "      <td>15.0</td>\n",
              "      <td>60.0</td>\n",
              "      <td>109.0</td>\n",
              "      <td>242.5</td>\n",
              "      <td>2500.0</td>\n",
              "    </tr>\n",
              "    <tr>\n",
              "      <th>KT</th>\n",
              "      <td>363.0</td>\n",
              "      <td>NaN</td>\n",
              "      <td>NaN</td>\n",
              "      <td>NaN</td>\n",
              "      <td>3.4573</td>\n",
              "      <td>1.530616</td>\n",
              "      <td>1.0</td>\n",
              "      <td>2.0</td>\n",
              "      <td>3.0</td>\n",
              "      <td>4.0</td>\n",
              "      <td>10.0</td>\n",
              "    </tr>\n",
              "    <tr>\n",
              "      <th>KM</th>\n",
              "      <td>363.0</td>\n",
              "      <td>NaN</td>\n",
              "      <td>NaN</td>\n",
              "      <td>NaN</td>\n",
              "      <td>2.677686</td>\n",
              "      <td>1.48034</td>\n",
              "      <td>1.0</td>\n",
              "      <td>2.0</td>\n",
              "      <td>2.0</td>\n",
              "      <td>4.0</td>\n",
              "      <td>10.0</td>\n",
              "    </tr>\n",
              "    <tr>\n",
              "      <th>garasi</th>\n",
              "      <td>107.0</td>\n",
              "      <td>NaN</td>\n",
              "      <td>NaN</td>\n",
              "      <td>NaN</td>\n",
              "      <td>1.962617</td>\n",
              "      <td>1.619022</td>\n",
              "      <td>1.0</td>\n",
              "      <td>1.0</td>\n",
              "      <td>1.0</td>\n",
              "      <td>2.0</td>\n",
              "      <td>10.0</td>\n",
              "    </tr>\n",
              "    <tr>\n",
              "      <th>carport</th>\n",
              "      <td>276.0</td>\n",
              "      <td>NaN</td>\n",
              "      <td>NaN</td>\n",
              "      <td>NaN</td>\n",
              "      <td>1.742754</td>\n",
              "      <td>1.265968</td>\n",
              "      <td>1.0</td>\n",
              "      <td>1.0</td>\n",
              "      <td>1.0</td>\n",
              "      <td>2.0</td>\n",
              "      <td>10.0</td>\n",
              "    </tr>\n",
              "    <tr>\n",
              "      <th>lokasi</th>\n",
              "      <td>363</td>\n",
              "      <td>57</td>\n",
              "      <td>Sawangan</td>\n",
              "      <td>30</td>\n",
              "      <td>NaN</td>\n",
              "      <td>NaN</td>\n",
              "      <td>NaN</td>\n",
              "      <td>NaN</td>\n",
              "      <td>NaN</td>\n",
              "      <td>NaN</td>\n",
              "      <td>NaN</td>\n",
              "    </tr>\n",
              "    <tr>\n",
              "      <th>sertifikat</th>\n",
              "      <td>359</td>\n",
              "      <td>10</td>\n",
              "      <td>SHM</td>\n",
              "      <td>302</td>\n",
              "      <td>NaN</td>\n",
              "      <td>NaN</td>\n",
              "      <td>NaN</td>\n",
              "      <td>NaN</td>\n",
              "      <td>NaN</td>\n",
              "      <td>NaN</td>\n",
              "      <td>NaN</td>\n",
              "    </tr>\n",
              "    <tr>\n",
              "      <th>listrik</th>\n",
              "      <td>334.0</td>\n",
              "      <td>NaN</td>\n",
              "      <td>NaN</td>\n",
              "      <td>NaN</td>\n",
              "      <td>3928.143713</td>\n",
              "      <td>6288.522232</td>\n",
              "      <td>900.0</td>\n",
              "      <td>2200.0</td>\n",
              "      <td>2200.0</td>\n",
              "      <td>3500.0</td>\n",
              "      <td>66000.0</td>\n",
              "    </tr>\n",
              "    <tr>\n",
              "      <th>hadap</th>\n",
              "      <td>147</td>\n",
              "      <td>12</td>\n",
              "      <td>Utara</td>\n",
              "      <td>47</td>\n",
              "      <td>NaN</td>\n",
              "      <td>NaN</td>\n",
              "      <td>NaN</td>\n",
              "      <td>NaN</td>\n",
              "      <td>NaN</td>\n",
              "      <td>NaN</td>\n",
              "      <td>NaN</td>\n",
              "    </tr>\n",
              "    <tr>\n",
              "      <th>harga</th>\n",
              "      <td>363.0</td>\n",
              "      <td>NaN</td>\n",
              "      <td>NaN</td>\n",
              "      <td>NaN</td>\n",
              "      <td>2995320028.490358</td>\n",
              "      <td>10077005538.307381</td>\n",
              "      <td>41.0</td>\n",
              "      <td>870.0</td>\n",
              "      <td>2300.0</td>\n",
              "      <td>1550000000.0</td>\n",
              "      <td>105000000000.0</td>\n",
              "    </tr>\n",
              "    <tr>\n",
              "      <th>URL</th>\n",
              "      <td>363</td>\n",
              "      <td>362</td>\n",
              "      <td>https://www.rumah.com/listing-properti/dijual-...</td>\n",
              "      <td>2</td>\n",
              "      <td>NaN</td>\n",
              "      <td>NaN</td>\n",
              "      <td>NaN</td>\n",
              "      <td>NaN</td>\n",
              "      <td>NaN</td>\n",
              "      <td>NaN</td>\n",
              "      <td>NaN</td>\n",
              "    </tr>\n",
              "    <tr>\n",
              "      <th>deskripsi</th>\n",
              "      <td>350</td>\n",
              "      <td>321</td>\n",
              "      <td>Dekat dengan berbagai fasilitas seperti :\\nSek...</td>\n",
              "      <td>8</td>\n",
              "      <td>NaN</td>\n",
              "      <td>NaN</td>\n",
              "      <td>NaN</td>\n",
              "      <td>NaN</td>\n",
              "      <td>NaN</td>\n",
              "      <td>NaN</td>\n",
              "      <td>NaN</td>\n",
              "    </tr>\n",
              "    <tr>\n",
              "      <th>kota</th>\n",
              "      <td>363</td>\n",
              "      <td>3</td>\n",
              "      <td>Tangerang</td>\n",
              "      <td>124</td>\n",
              "      <td>NaN</td>\n",
              "      <td>NaN</td>\n",
              "      <td>NaN</td>\n",
              "      <td>NaN</td>\n",
              "      <td>NaN</td>\n",
              "      <td>NaN</td>\n",
              "      <td>NaN</td>\n",
              "    </tr>\n",
              "  </tbody>\n",
              "</table>\n",
              "</div>\n",
              "      <button class=\"colab-df-convert\" onclick=\"convertToInteractive('df-25a9511c-9e2b-4fb0-b0c2-348a526dac1b')\"\n",
              "              title=\"Convert this dataframe to an interactive table.\"\n",
              "              style=\"display:none;\">\n",
              "        \n",
              "  <svg xmlns=\"http://www.w3.org/2000/svg\" height=\"24px\"viewBox=\"0 0 24 24\"\n",
              "       width=\"24px\">\n",
              "    <path d=\"M0 0h24v24H0V0z\" fill=\"none\"/>\n",
              "    <path d=\"M18.56 5.44l.94 2.06.94-2.06 2.06-.94-2.06-.94-.94-2.06-.94 2.06-2.06.94zm-11 1L8.5 8.5l.94-2.06 2.06-.94-2.06-.94L8.5 2.5l-.94 2.06-2.06.94zm10 10l.94 2.06.94-2.06 2.06-.94-2.06-.94-.94-2.06-.94 2.06-2.06.94z\"/><path d=\"M17.41 7.96l-1.37-1.37c-.4-.4-.92-.59-1.43-.59-.52 0-1.04.2-1.43.59L10.3 9.45l-7.72 7.72c-.78.78-.78 2.05 0 2.83L4 21.41c.39.39.9.59 1.41.59.51 0 1.02-.2 1.41-.59l7.78-7.78 2.81-2.81c.8-.78.8-2.07 0-2.86zM5.41 20L4 18.59l7.72-7.72 1.47 1.35L5.41 20z\"/>\n",
              "  </svg>\n",
              "      </button>\n",
              "      \n",
              "  <style>\n",
              "    .colab-df-container {\n",
              "      display:flex;\n",
              "      flex-wrap:wrap;\n",
              "      gap: 12px;\n",
              "    }\n",
              "\n",
              "    .colab-df-convert {\n",
              "      background-color: #E8F0FE;\n",
              "      border: none;\n",
              "      border-radius: 50%;\n",
              "      cursor: pointer;\n",
              "      display: none;\n",
              "      fill: #1967D2;\n",
              "      height: 32px;\n",
              "      padding: 0 0 0 0;\n",
              "      width: 32px;\n",
              "    }\n",
              "\n",
              "    .colab-df-convert:hover {\n",
              "      background-color: #E2EBFA;\n",
              "      box-shadow: 0px 1px 2px rgba(60, 64, 67, 0.3), 0px 1px 3px 1px rgba(60, 64, 67, 0.15);\n",
              "      fill: #174EA6;\n",
              "    }\n",
              "\n",
              "    [theme=dark] .colab-df-convert {\n",
              "      background-color: #3B4455;\n",
              "      fill: #D2E3FC;\n",
              "    }\n",
              "\n",
              "    [theme=dark] .colab-df-convert:hover {\n",
              "      background-color: #434B5C;\n",
              "      box-shadow: 0px 1px 3px 1px rgba(0, 0, 0, 0.15);\n",
              "      filter: drop-shadow(0px 1px 2px rgba(0, 0, 0, 0.3));\n",
              "      fill: #FFFFFF;\n",
              "    }\n",
              "  </style>\n",
              "\n",
              "      <script>\n",
              "        const buttonEl =\n",
              "          document.querySelector('#df-25a9511c-9e2b-4fb0-b0c2-348a526dac1b button.colab-df-convert');\n",
              "        buttonEl.style.display =\n",
              "          google.colab.kernel.accessAllowed ? 'block' : 'none';\n",
              "\n",
              "        async function convertToInteractive(key) {\n",
              "          const element = document.querySelector('#df-25a9511c-9e2b-4fb0-b0c2-348a526dac1b');\n",
              "          const dataTable =\n",
              "            await google.colab.kernel.invokeFunction('convertToInteractive',\n",
              "                                                     [key], {});\n",
              "          if (!dataTable) return;\n",
              "\n",
              "          const docLinkHtml = 'Like what you see? Visit the ' +\n",
              "            '<a target=\"_blank\" href=https://colab.research.google.com/notebooks/data_table.ipynb>data table notebook</a>'\n",
              "            + ' to learn more about interactive tables.';\n",
              "          element.innerHTML = '';\n",
              "          dataTable['output_type'] = 'display_data';\n",
              "          await google.colab.output.renderOutput(dataTable, element);\n",
              "          const docLink = document.createElement('div');\n",
              "          docLink.innerHTML = docLinkHtml;\n",
              "          element.appendChild(docLink);\n",
              "        }\n",
              "      </script>\n",
              "    </div>\n",
              "  </div>\n",
              "  "
            ]
          },
          "metadata": {},
          "execution_count": 128
        }
      ]
    },
    {
      "cell_type": "code",
      "source": [
        "dataG.count()"
      ],
      "metadata": {
        "colab": {
          "base_uri": "https://localhost:8080/"
        },
        "id": "2YsyN8COvEP-",
        "outputId": "b4a9ef7c-826c-454b-c8ed-b69bb97269d3"
      },
      "execution_count": null,
      "outputs": [
        {
          "output_type": "execute_result",
          "data": {
            "text/plain": [
              "LT            363\n",
              "LB            363\n",
              "KT            363\n",
              "KM            363\n",
              "garasi        107\n",
              "carport       276\n",
              "lokasi        363\n",
              "sertifikat    359\n",
              "listrik       334\n",
              "hadap         147\n",
              "harga         363\n",
              "URL           363\n",
              "deskripsi     350\n",
              "kota          363\n",
              "dtype: int64"
            ]
          },
          "metadata": {},
          "execution_count": 129
        }
      ]
    },
    {
      "cell_type": "markdown",
      "source": [
        "#Cek Duplikat Data\n"
      ],
      "metadata": {
        "id": "TMkUE9Th3Cx2"
      }
    },
    {
      "cell_type": "code",
      "source": [
        "#melihat duplikat data\n",
        "dataG.duplicated().sum()"
      ],
      "metadata": {
        "colab": {
          "base_uri": "https://localhost:8080/"
        },
        "id": "Zxxs57ymvIkG",
        "outputId": "701cd81c-3f46-43c0-8729-02253931b0ef"
      },
      "execution_count": null,
      "outputs": [
        {
          "output_type": "execute_result",
          "data": {
            "text/plain": [
              "0"
            ]
          },
          "metadata": {},
          "execution_count": 130
        }
      ]
    },
    {
      "cell_type": "markdown",
      "source": [
        "Data yang kita proses tidak memiliki duplikat data.\n"
      ],
      "metadata": {
        "id": "p-yPRazl3gpg"
      }
    },
    {
      "cell_type": "markdown",
      "source": [
        "#Cek Missing Value"
      ],
      "metadata": {
        "id": "4gvh_31j3FT2"
      }
    },
    {
      "cell_type": "code",
      "source": [
        "#melihat missing value data\n",
        "dataG.isna().sum()"
      ],
      "metadata": {
        "colab": {
          "base_uri": "https://localhost:8080/"
        },
        "id": "lqWfaW9rvR2T",
        "outputId": "4f142643-0773-48ec-c61d-670e9dddc91c"
      },
      "execution_count": null,
      "outputs": [
        {
          "output_type": "execute_result",
          "data": {
            "text/plain": [
              "LT              0\n",
              "LB              0\n",
              "KT              0\n",
              "KM              0\n",
              "garasi        256\n",
              "carport        87\n",
              "lokasi          0\n",
              "sertifikat      4\n",
              "listrik        29\n",
              "hadap         216\n",
              "harga           0\n",
              "URL             0\n",
              "deskripsi      13\n",
              "kota            0\n",
              "dtype: int64"
            ]
          },
          "metadata": {},
          "execution_count": 131
        }
      ]
    },
    {
      "cell_type": "markdown",
      "source": [
        "Akan diatasi missing value data"
      ],
      "metadata": {
        "id": "gdBYrLs33M7M"
      }
    },
    {
      "cell_type": "code",
      "source": [
        "#Mengatasi missing value\n",
        "dataG['garasi'].fillna(math.floor(dataG['garasi'].median()),inplace =True)\n",
        "dataG['carport'].fillna(math.floor(dataG['carport'].median()),inplace =True)\n",
        "dataG['listrik'].fillna(math.floor(dataG['listrik'].median()),inplace =True)"
      ],
      "metadata": {
        "id": "zBtjP_0ivVqk"
      },
      "execution_count": null,
      "outputs": []
    },
    {
      "cell_type": "code",
      "source": [
        "dataG.isnull().sum()"
      ],
      "metadata": {
        "colab": {
          "base_uri": "https://localhost:8080/"
        },
        "id": "72rN9PIFw7Js",
        "outputId": "04d809ea-fc19-4b55-ab76-7950ff8bdf65"
      },
      "execution_count": null,
      "outputs": [
        {
          "output_type": "execute_result",
          "data": {
            "text/plain": [
              "LT              0\n",
              "LB              0\n",
              "KT              0\n",
              "KM              0\n",
              "garasi          0\n",
              "carport         0\n",
              "lokasi          0\n",
              "sertifikat      4\n",
              "listrik         0\n",
              "hadap         216\n",
              "harga           0\n",
              "URL             0\n",
              "deskripsi      13\n",
              "kota            0\n",
              "dtype: int64"
            ]
          },
          "metadata": {},
          "execution_count": 133
        }
      ]
    },
    {
      "cell_type": "code",
      "source": [
        "modus = dataG['hadap'].mode()[0]\n",
        "dataG['hadap'] = dataG['hadap'].fillna(modus)\n",
        "dataG['hadap'].isna().sum()\n",
        "\n",
        "modus = dataG['sertifikat'].mode()[0]\n",
        "dataG['sertifikat'] = dataG['sertifikat'].fillna(modus)\n",
        "dataG['sertifikat'].isna().sum()\n",
        "\n",
        "modus = dataG['deskripsi'].mode()[0]\n",
        "dataG['deskripsi'] = dataG['deskripsi'].fillna(modus)\n",
        "dataG['deskripsi'].isna().sum()"
      ],
      "metadata": {
        "colab": {
          "base_uri": "https://localhost:8080/"
        },
        "id": "4WQQMNx5yu-a",
        "outputId": "e563a615-ce38-4ef7-a3ec-616517df53e8"
      },
      "execution_count": null,
      "outputs": [
        {
          "output_type": "execute_result",
          "data": {
            "text/plain": [
              "0"
            ]
          },
          "metadata": {},
          "execution_count": 134
        }
      ]
    },
    {
      "cell_type": "code",
      "source": [
        "dataG.isnull().sum()"
      ],
      "metadata": {
        "id": "rkqZiDFNwOX5",
        "colab": {
          "base_uri": "https://localhost:8080/"
        },
        "outputId": "148e31d7-a48b-4573-9c69-bbd0ced5bd1c"
      },
      "execution_count": null,
      "outputs": [
        {
          "output_type": "execute_result",
          "data": {
            "text/plain": [
              "LT            0\n",
              "LB            0\n",
              "KT            0\n",
              "KM            0\n",
              "garasi        0\n",
              "carport       0\n",
              "lokasi        0\n",
              "sertifikat    0\n",
              "listrik       0\n",
              "hadap         0\n",
              "harga         0\n",
              "URL           0\n",
              "deskripsi     0\n",
              "kota          0\n",
              "dtype: int64"
            ]
          },
          "metadata": {},
          "execution_count": 135
        }
      ]
    },
    {
      "cell_type": "code",
      "source": [
        "dataG"
      ],
      "metadata": {
        "colab": {
          "base_uri": "https://localhost:8080/",
          "height": 673
        },
        "id": "VEUue4qzzOQT",
        "outputId": "7a2d63a5-a4a2-4eca-d06f-e3d1169e4761"
      },
      "execution_count": null,
      "outputs": [
        {
          "output_type": "execute_result",
          "data": {
            "text/plain": [
              "             LT   LB  KT  KM  garasi  carport                     lokasi  \\\n",
              "created_at                                                                 \n",
              "2021-06-12  202  198   8   3     1.0      1.0              Jakarta Pusat   \n",
              "2021-02-12   30   55   2   1     1.0      1.0              Jakarta Pusat   \n",
              "2021-06-12   19   35   2   1     1.0      1.0              Jakarta Pusat   \n",
              "2021-06-12   33   42   2   2     1.0      1.0              Jakarta Pusat   \n",
              "2021-06-12   30   55   2   2     1.0      1.0              Jakarta Pusat   \n",
              "...         ...  ...  ..  ..     ...      ...                        ...   \n",
              "2021-12-08   60   55   2   2     1.0      1.0  LIPPO KARAWACI, TANGERANG   \n",
              "2021-12-08   66   70   3   2     1.0      1.0          Ciater, Tangerang   \n",
              "2021-12-08  202   85   4   3     1.0      1.0  BSD Griya Loka, Tangerang   \n",
              "2021-12-08  108  130   3   3     1.0      1.0      Pagedangan, Tangerang   \n",
              "2021-12-08   91   91   3   2     1.0      1.0           Poris, Tangerang   \n",
              "\n",
              "                                 sertifikat  listrik  hadap       harga  \\\n",
              "created_at                                                                \n",
              "2021-06-12                              SHM   2200.0  Utara  4500000000   \n",
              "2021-02-12                              SHM   2200.0  Utara  1100000000   \n",
              "2021-06-12                              SHM   2200.0  Utara   395000000   \n",
              "2021-06-12                              SHM   2200.0  Utara   835000000   \n",
              "2021-06-12                              SHM   2200.0  Utara  1100000000   \n",
              "...                                     ...      ...    ...         ...   \n",
              "2021-12-08  lainnya(PPJB, GIRIK, ADAT, dll)   2200.0  Utara         711   \n",
              "2021-12-08                              SHM   1300.0  Utara         850   \n",
              "2021-12-08                              SHM   2200.0  Barat        1860   \n",
              "2021-12-08                              SHM   2200.0  Utara        1800   \n",
              "2021-12-08                              SHM   3500.0  Utara        1000   \n",
              "\n",
              "                                                          URL  \\\n",
              "created_at                                                      \n",
              "2021-06-12  https://www.rumah.com/listing-properti/dijual-...   \n",
              "2021-02-12  https://www.rumah.com/listing-properti/dijual-...   \n",
              "2021-06-12  https://www.rumah.com/listing-properti/dijual-...   \n",
              "2021-06-12  https://www.rumah.com/listing-properti/dijual-...   \n",
              "2021-06-12  https://www.rumah.com/listing-properti/dijual-...   \n",
              "...                                                       ...   \n",
              "2021-12-08  https://www.rumah123.com/properti/tangerang/ho...   \n",
              "2021-12-08  https://www.rumah123.com/properti/tangerang/ho...   \n",
              "2021-12-08  https://www.rumah123.com/properti/tangerang/ho...   \n",
              "2021-12-08  https://www.rumah123.com/properti/tangerang/ho...   \n",
              "2021-12-08  https://www.rumah123.com/properti/tangerang/ho...   \n",
              "\n",
              "                                                    deskripsi       kota  \n",
              "created_at                                                                \n",
              "2021-06-12  Dekat Cikini Salemba Taman Isamail Marzuki Kam...    Jakarta  \n",
              "2021-02-12  Mengusung konsep minimalis, dan didukung denga...    Jakarta  \n",
              "2021-06-12  Dekat dengan Mall Atrium Senen, dekat dengan a...    Jakarta  \n",
              "2021-06-12  Berlokasi sangat strategis, sangat dekat ke Tu...    Jakarta  \n",
              "2021-06-12  Bisa request ubah tata ruang, beli 2 unit mend...    Jakarta  \n",
              "...                                                       ...        ...  \n",
              "2021-12-08  Lokasi sangat dekat dengan berbagai Akses,Ters...  Tangerang  \n",
              "2021-12-08  Berlian Ciater, Hunian 2 Lantai Nyaman dan Asr...  Tangerang  \n",
              "2021-12-08  1-7 km ke Stasiun Rawa Buntu, Rs Eka Hospital,...  Tangerang  \n",
              "2021-12-08  Fasilitas Terdekat :Lokasi strategis, berada d...  Tangerang  \n",
              "2021-12-08  Akses Mudah: 10 Menit Ke stasiun kereta poris ...  Tangerang  \n",
              "\n",
              "[363 rows x 14 columns]"
            ],
            "text/html": [
              "\n",
              "  <div id=\"df-59bb9495-205f-43da-92aa-cb3bb063f155\">\n",
              "    <div class=\"colab-df-container\">\n",
              "      <div>\n",
              "<style scoped>\n",
              "    .dataframe tbody tr th:only-of-type {\n",
              "        vertical-align: middle;\n",
              "    }\n",
              "\n",
              "    .dataframe tbody tr th {\n",
              "        vertical-align: top;\n",
              "    }\n",
              "\n",
              "    .dataframe thead th {\n",
              "        text-align: right;\n",
              "    }\n",
              "</style>\n",
              "<table border=\"1\" class=\"dataframe\">\n",
              "  <thead>\n",
              "    <tr style=\"text-align: right;\">\n",
              "      <th></th>\n",
              "      <th>LT</th>\n",
              "      <th>LB</th>\n",
              "      <th>KT</th>\n",
              "      <th>KM</th>\n",
              "      <th>garasi</th>\n",
              "      <th>carport</th>\n",
              "      <th>lokasi</th>\n",
              "      <th>sertifikat</th>\n",
              "      <th>listrik</th>\n",
              "      <th>hadap</th>\n",
              "      <th>harga</th>\n",
              "      <th>URL</th>\n",
              "      <th>deskripsi</th>\n",
              "      <th>kota</th>\n",
              "    </tr>\n",
              "    <tr>\n",
              "      <th>created_at</th>\n",
              "      <th></th>\n",
              "      <th></th>\n",
              "      <th></th>\n",
              "      <th></th>\n",
              "      <th></th>\n",
              "      <th></th>\n",
              "      <th></th>\n",
              "      <th></th>\n",
              "      <th></th>\n",
              "      <th></th>\n",
              "      <th></th>\n",
              "      <th></th>\n",
              "      <th></th>\n",
              "      <th></th>\n",
              "    </tr>\n",
              "  </thead>\n",
              "  <tbody>\n",
              "    <tr>\n",
              "      <th>2021-06-12</th>\n",
              "      <td>202</td>\n",
              "      <td>198</td>\n",
              "      <td>8</td>\n",
              "      <td>3</td>\n",
              "      <td>1.0</td>\n",
              "      <td>1.0</td>\n",
              "      <td>Jakarta Pusat</td>\n",
              "      <td>SHM</td>\n",
              "      <td>2200.0</td>\n",
              "      <td>Utara</td>\n",
              "      <td>4500000000</td>\n",
              "      <td>https://www.rumah.com/listing-properti/dijual-...</td>\n",
              "      <td>Dekat Cikini Salemba Taman Isamail Marzuki Kam...</td>\n",
              "      <td>Jakarta</td>\n",
              "    </tr>\n",
              "    <tr>\n",
              "      <th>2021-02-12</th>\n",
              "      <td>30</td>\n",
              "      <td>55</td>\n",
              "      <td>2</td>\n",
              "      <td>1</td>\n",
              "      <td>1.0</td>\n",
              "      <td>1.0</td>\n",
              "      <td>Jakarta Pusat</td>\n",
              "      <td>SHM</td>\n",
              "      <td>2200.0</td>\n",
              "      <td>Utara</td>\n",
              "      <td>1100000000</td>\n",
              "      <td>https://www.rumah.com/listing-properti/dijual-...</td>\n",
              "      <td>Mengusung konsep minimalis, dan didukung denga...</td>\n",
              "      <td>Jakarta</td>\n",
              "    </tr>\n",
              "    <tr>\n",
              "      <th>2021-06-12</th>\n",
              "      <td>19</td>\n",
              "      <td>35</td>\n",
              "      <td>2</td>\n",
              "      <td>1</td>\n",
              "      <td>1.0</td>\n",
              "      <td>1.0</td>\n",
              "      <td>Jakarta Pusat</td>\n",
              "      <td>SHM</td>\n",
              "      <td>2200.0</td>\n",
              "      <td>Utara</td>\n",
              "      <td>395000000</td>\n",
              "      <td>https://www.rumah.com/listing-properti/dijual-...</td>\n",
              "      <td>Dekat dengan Mall Atrium Senen, dekat dengan a...</td>\n",
              "      <td>Jakarta</td>\n",
              "    </tr>\n",
              "    <tr>\n",
              "      <th>2021-06-12</th>\n",
              "      <td>33</td>\n",
              "      <td>42</td>\n",
              "      <td>2</td>\n",
              "      <td>2</td>\n",
              "      <td>1.0</td>\n",
              "      <td>1.0</td>\n",
              "      <td>Jakarta Pusat</td>\n",
              "      <td>SHM</td>\n",
              "      <td>2200.0</td>\n",
              "      <td>Utara</td>\n",
              "      <td>835000000</td>\n",
              "      <td>https://www.rumah.com/listing-properti/dijual-...</td>\n",
              "      <td>Berlokasi sangat strategis, sangat dekat ke Tu...</td>\n",
              "      <td>Jakarta</td>\n",
              "    </tr>\n",
              "    <tr>\n",
              "      <th>2021-06-12</th>\n",
              "      <td>30</td>\n",
              "      <td>55</td>\n",
              "      <td>2</td>\n",
              "      <td>2</td>\n",
              "      <td>1.0</td>\n",
              "      <td>1.0</td>\n",
              "      <td>Jakarta Pusat</td>\n",
              "      <td>SHM</td>\n",
              "      <td>2200.0</td>\n",
              "      <td>Utara</td>\n",
              "      <td>1100000000</td>\n",
              "      <td>https://www.rumah.com/listing-properti/dijual-...</td>\n",
              "      <td>Bisa request ubah tata ruang, beli 2 unit mend...</td>\n",
              "      <td>Jakarta</td>\n",
              "    </tr>\n",
              "    <tr>\n",
              "      <th>...</th>\n",
              "      <td>...</td>\n",
              "      <td>...</td>\n",
              "      <td>...</td>\n",
              "      <td>...</td>\n",
              "      <td>...</td>\n",
              "      <td>...</td>\n",
              "      <td>...</td>\n",
              "      <td>...</td>\n",
              "      <td>...</td>\n",
              "      <td>...</td>\n",
              "      <td>...</td>\n",
              "      <td>...</td>\n",
              "      <td>...</td>\n",
              "      <td>...</td>\n",
              "    </tr>\n",
              "    <tr>\n",
              "      <th>2021-12-08</th>\n",
              "      <td>60</td>\n",
              "      <td>55</td>\n",
              "      <td>2</td>\n",
              "      <td>2</td>\n",
              "      <td>1.0</td>\n",
              "      <td>1.0</td>\n",
              "      <td>LIPPO KARAWACI, TANGERANG</td>\n",
              "      <td>lainnya(PPJB, GIRIK, ADAT, dll)</td>\n",
              "      <td>2200.0</td>\n",
              "      <td>Utara</td>\n",
              "      <td>711</td>\n",
              "      <td>https://www.rumah123.com/properti/tangerang/ho...</td>\n",
              "      <td>Lokasi sangat dekat dengan berbagai Akses,Ters...</td>\n",
              "      <td>Tangerang</td>\n",
              "    </tr>\n",
              "    <tr>\n",
              "      <th>2021-12-08</th>\n",
              "      <td>66</td>\n",
              "      <td>70</td>\n",
              "      <td>3</td>\n",
              "      <td>2</td>\n",
              "      <td>1.0</td>\n",
              "      <td>1.0</td>\n",
              "      <td>Ciater, Tangerang</td>\n",
              "      <td>SHM</td>\n",
              "      <td>1300.0</td>\n",
              "      <td>Utara</td>\n",
              "      <td>850</td>\n",
              "      <td>https://www.rumah123.com/properti/tangerang/ho...</td>\n",
              "      <td>Berlian Ciater, Hunian 2 Lantai Nyaman dan Asr...</td>\n",
              "      <td>Tangerang</td>\n",
              "    </tr>\n",
              "    <tr>\n",
              "      <th>2021-12-08</th>\n",
              "      <td>202</td>\n",
              "      <td>85</td>\n",
              "      <td>4</td>\n",
              "      <td>3</td>\n",
              "      <td>1.0</td>\n",
              "      <td>1.0</td>\n",
              "      <td>BSD Griya Loka, Tangerang</td>\n",
              "      <td>SHM</td>\n",
              "      <td>2200.0</td>\n",
              "      <td>Barat</td>\n",
              "      <td>1860</td>\n",
              "      <td>https://www.rumah123.com/properti/tangerang/ho...</td>\n",
              "      <td>1-7 km ke Stasiun Rawa Buntu, Rs Eka Hospital,...</td>\n",
              "      <td>Tangerang</td>\n",
              "    </tr>\n",
              "    <tr>\n",
              "      <th>2021-12-08</th>\n",
              "      <td>108</td>\n",
              "      <td>130</td>\n",
              "      <td>3</td>\n",
              "      <td>3</td>\n",
              "      <td>1.0</td>\n",
              "      <td>1.0</td>\n",
              "      <td>Pagedangan, Tangerang</td>\n",
              "      <td>SHM</td>\n",
              "      <td>2200.0</td>\n",
              "      <td>Utara</td>\n",
              "      <td>1800</td>\n",
              "      <td>https://www.rumah123.com/properti/tangerang/ho...</td>\n",
              "      <td>Fasilitas Terdekat :Lokasi strategis, berada d...</td>\n",
              "      <td>Tangerang</td>\n",
              "    </tr>\n",
              "    <tr>\n",
              "      <th>2021-12-08</th>\n",
              "      <td>91</td>\n",
              "      <td>91</td>\n",
              "      <td>3</td>\n",
              "      <td>2</td>\n",
              "      <td>1.0</td>\n",
              "      <td>1.0</td>\n",
              "      <td>Poris, Tangerang</td>\n",
              "      <td>SHM</td>\n",
              "      <td>3500.0</td>\n",
              "      <td>Utara</td>\n",
              "      <td>1000</td>\n",
              "      <td>https://www.rumah123.com/properti/tangerang/ho...</td>\n",
              "      <td>Akses Mudah: 10 Menit Ke stasiun kereta poris ...</td>\n",
              "      <td>Tangerang</td>\n",
              "    </tr>\n",
              "  </tbody>\n",
              "</table>\n",
              "<p>363 rows × 14 columns</p>\n",
              "</div>\n",
              "      <button class=\"colab-df-convert\" onclick=\"convertToInteractive('df-59bb9495-205f-43da-92aa-cb3bb063f155')\"\n",
              "              title=\"Convert this dataframe to an interactive table.\"\n",
              "              style=\"display:none;\">\n",
              "        \n",
              "  <svg xmlns=\"http://www.w3.org/2000/svg\" height=\"24px\"viewBox=\"0 0 24 24\"\n",
              "       width=\"24px\">\n",
              "    <path d=\"M0 0h24v24H0V0z\" fill=\"none\"/>\n",
              "    <path d=\"M18.56 5.44l.94 2.06.94-2.06 2.06-.94-2.06-.94-.94-2.06-.94 2.06-2.06.94zm-11 1L8.5 8.5l.94-2.06 2.06-.94-2.06-.94L8.5 2.5l-.94 2.06-2.06.94zm10 10l.94 2.06.94-2.06 2.06-.94-2.06-.94-.94-2.06-.94 2.06-2.06.94z\"/><path d=\"M17.41 7.96l-1.37-1.37c-.4-.4-.92-.59-1.43-.59-.52 0-1.04.2-1.43.59L10.3 9.45l-7.72 7.72c-.78.78-.78 2.05 0 2.83L4 21.41c.39.39.9.59 1.41.59.51 0 1.02-.2 1.41-.59l7.78-7.78 2.81-2.81c.8-.78.8-2.07 0-2.86zM5.41 20L4 18.59l7.72-7.72 1.47 1.35L5.41 20z\"/>\n",
              "  </svg>\n",
              "      </button>\n",
              "      \n",
              "  <style>\n",
              "    .colab-df-container {\n",
              "      display:flex;\n",
              "      flex-wrap:wrap;\n",
              "      gap: 12px;\n",
              "    }\n",
              "\n",
              "    .colab-df-convert {\n",
              "      background-color: #E8F0FE;\n",
              "      border: none;\n",
              "      border-radius: 50%;\n",
              "      cursor: pointer;\n",
              "      display: none;\n",
              "      fill: #1967D2;\n",
              "      height: 32px;\n",
              "      padding: 0 0 0 0;\n",
              "      width: 32px;\n",
              "    }\n",
              "\n",
              "    .colab-df-convert:hover {\n",
              "      background-color: #E2EBFA;\n",
              "      box-shadow: 0px 1px 2px rgba(60, 64, 67, 0.3), 0px 1px 3px 1px rgba(60, 64, 67, 0.15);\n",
              "      fill: #174EA6;\n",
              "    }\n",
              "\n",
              "    [theme=dark] .colab-df-convert {\n",
              "      background-color: #3B4455;\n",
              "      fill: #D2E3FC;\n",
              "    }\n",
              "\n",
              "    [theme=dark] .colab-df-convert:hover {\n",
              "      background-color: #434B5C;\n",
              "      box-shadow: 0px 1px 3px 1px rgba(0, 0, 0, 0.15);\n",
              "      filter: drop-shadow(0px 1px 2px rgba(0, 0, 0, 0.3));\n",
              "      fill: #FFFFFF;\n",
              "    }\n",
              "  </style>\n",
              "\n",
              "      <script>\n",
              "        const buttonEl =\n",
              "          document.querySelector('#df-59bb9495-205f-43da-92aa-cb3bb063f155 button.colab-df-convert');\n",
              "        buttonEl.style.display =\n",
              "          google.colab.kernel.accessAllowed ? 'block' : 'none';\n",
              "\n",
              "        async function convertToInteractive(key) {\n",
              "          const element = document.querySelector('#df-59bb9495-205f-43da-92aa-cb3bb063f155');\n",
              "          const dataTable =\n",
              "            await google.colab.kernel.invokeFunction('convertToInteractive',\n",
              "                                                     [key], {});\n",
              "          if (!dataTable) return;\n",
              "\n",
              "          const docLinkHtml = 'Like what you see? Visit the ' +\n",
              "            '<a target=\"_blank\" href=https://colab.research.google.com/notebooks/data_table.ipynb>data table notebook</a>'\n",
              "            + ' to learn more about interactive tables.';\n",
              "          element.innerHTML = '';\n",
              "          dataTable['output_type'] = 'display_data';\n",
              "          await google.colab.output.renderOutput(dataTable, element);\n",
              "          const docLink = document.createElement('div');\n",
              "          docLink.innerHTML = docLinkHtml;\n",
              "          element.appendChild(docLink);\n",
              "        }\n",
              "      </script>\n",
              "    </div>\n",
              "  </div>\n",
              "  "
            ]
          },
          "metadata": {},
          "execution_count": 136
        }
      ]
    },
    {
      "cell_type": "markdown",
      "source": [
        "Missing Value sudah teratasi."
      ],
      "metadata": {
        "id": "AU6FMgZl3oPf"
      }
    },
    {
      "cell_type": "markdown",
      "source": [
        "##Outlier"
      ],
      "metadata": {
        "id": "o71IzroBzYFj"
      }
    },
    {
      "cell_type": "code",
      "source": [
        "#Memeriksa outlier pada variabel harga\n",
        "plt.figure(figsize = (20, 10))\n",
        "sns.boxplot(dataG['harga'])\n",
        "plt.axvline(dataG['harga'].describe()['25%'], color = 'red', label = 'Q1')\n",
        "plt.axvline(dataG['harga'].describe()['50%'], color = 'yellow', label = 'Q2')\n",
        "plt.axvline(dataG['harga'].describe()['75%'], color = 'blue', label = 'Q3')\n",
        "plt.annotate('Outlier', (dataG['harga'].describe()['max'],0.1), xytext = (dataG['harga'].describe()['max'],0.3),\n",
        "             arrowprops = dict(facecolor = 'blue'), fontsize = 13 )\n",
        "IQR = dataG['harga'].describe()['75%'] - dataG['harga'].describe()['25%']\n",
        "plt.annotate('Batas Atas', (dataG['harga'].describe()['75%'] + 1.5*IQR, 0.2), \n",
        "             xytext = (dataG['harga'].describe()['75%'] + 1.5*IQR, 0.4),\n",
        "             arrowprops = dict(facecolor = 'blue'), fontsize = 13 )\n",
        "plt.annotate('Batas Bawah', (dataG['harga'].describe()['min'], 0.2), \n",
        "             xytext = (dataG['harga'].describe()['min'], 0.4),\n",
        "             arrowprops = dict(facecolor = 'blue'), fontsize = 13 )\n",
        "plt.legend()"
      ],
      "metadata": {
        "colab": {
          "base_uri": "https://localhost:8080/",
          "height": 628
        },
        "id": "ee4YJ81QzP-n",
        "outputId": "9a258d47-9468-4167-b240-8d243e4ada1c"
      },
      "execution_count": null,
      "outputs": [
        {
          "output_type": "execute_result",
          "data": {
            "text/plain": [
              "<matplotlib.legend.Legend at 0x7fc8282426d0>"
            ]
          },
          "metadata": {},
          "execution_count": 137
        },
        {
          "output_type": "display_data",
          "data": {
            "text/plain": [
              "<Figure size 1440x720 with 1 Axes>"
            ],
            "image/png": "[encoded data removed]"
          },
          "metadata": {}
        }
      ]
    },
    {
      "cell_type": "markdown",
      "source": [
        "Dapat dilihat berdasarkan plot yang dihasilkan terdapat oulier"
      ],
      "metadata": {
        "id": "9bMTVT6h3_KB"
      }
    },
    {
      "cell_type": "code",
      "source": [
        "p= sns.catplot(x=\"kota\",y=\"harga\" ,kind=\"swarm\", data=dataG)"
      ],
      "metadata": {
        "colab": {
          "base_uri": "https://localhost:8080/",
          "height": 365
        },
        "id": "6Vd9v4Gk5IDu",
        "outputId": "0263debe-575d-4e68-bd49-c4e2f56fc2d5"
      },
      "execution_count": null,
      "outputs": [
        {
          "output_type": "display_data",
          "data": {
            "text/plain": [
              "<Figure size 360x360 with 1 Axes>"
            ],
            "image/png": "[encoded data removed]"
          },
          "metadata": {}
        }
      ]
    },
    {
      "cell_type": "markdown",
      "source": [
        "Berdasarkan plot atau output yang dihasilkan dapat dilihat bahwa rerata harga rumah dengan harga tinggi berada di Kota Jakarta, sedangkan rerata harga rumah di kota Tangerang dan Depok cenderung sama."
      ],
      "metadata": {
        "id": "byXtDSsr7MJh"
      }
    },
    {
      "cell_type": "code",
      "source": [
        "p= sns.catplot(x=\"kota\",y=\"harga\",hue=\"hadap\" ,kind=\"swarm\", data=dataG)"
      ],
      "metadata": {
        "colab": {
          "base_uri": "https://localhost:8080/",
          "height": 365
        },
        "id": "XBz8Liu17s-l",
        "outputId": "fa082f99-e9b9-4660-dc1f-f3a1e2838124"
      },
      "execution_count": null,
      "outputs": [
        {
          "output_type": "display_data",
          "data": {
            "text/plain": [
              "<Figure size 487.1x360 with 1 Axes>"
            ],
            "image/png": "[encoded data removed]"
          },
          "metadata": {}
        }
      ]
    },
    {
      "cell_type": "markdown",
      "source": [
        "Berdasarkan plot atau output diatas dapat dilihat bahwa rumah di kota Jakarta, Depok dan Tangerang cenderung menghadap ke arah Utara."
      ],
      "metadata": {
        "id": "NLl3qwU08s5-"
      }
    },
    {
      "cell_type": "code",
      "source": [
        "p= sns.catplot(x=\"kota\",y=\"harga\",hue=\"KM\" ,kind=\"swarm\", data=dataG)"
      ],
      "metadata": {
        "colab": {
          "base_uri": "https://localhost:8080/",
          "height": 365
        },
        "id": "0numjX1C-ckr",
        "outputId": "f99d021b-73e2-4bb2-d77c-ad2656ca0611"
      },
      "execution_count": null,
      "outputs": [
        {
          "output_type": "display_data",
          "data": {
            "text/plain": [
              "<Figure size 413.6x360 with 1 Axes>"
            ],
            "image/png": "[encoded data removed]"
          },
          "metadata": {}
        }
      ]
    },
    {
      "cell_type": "markdown",
      "source": [
        "Berdasarkan output diatas dapat dilihat bahwa rumah di kota Jakarta yang memiliki 4 kamar mandi harganya cenderung sama dengan harga rumah yang hanya memiliki 2 atau 3 kamar mandi, hal ini dapat dipertimbangkan jika akan membeli"
      ],
      "metadata": {
        "id": "QW-qFERK_HQG"
      }
    }
  ]
}